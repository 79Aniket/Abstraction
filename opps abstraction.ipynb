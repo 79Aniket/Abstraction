{
 "cells": [
  {
   "cell_type": "markdown",
   "id": "42be7ccd-7aab-4591-97b2-eedcdcbf61fe",
   "metadata": {},
   "source": [
    "### Q1. What is Abstraction in OOps? Explain with an example."
   ]
  },
  {
   "cell_type": "code",
   "execution_count": 1,
   "id": "9087730d-d013-4eaa-bfc4-9c58cf2b1284",
   "metadata": {},
   "outputs": [],
   "source": [
    "import abc\n",
    "class pwskills:\n",
    "    @abc.abstractmethod\n",
    "    def student_detials(self):\n",
    "        pass\n",
    "    @abc.abstractmethod\n",
    "    \n",
    "    def student_marks(self):\n",
    "        pass\n",
    "    @abc.abstractmethod\n",
    "    \n",
    "    def student_assignment(self):\n",
    "        pass\n",
    "    "
   ]
  },
  {
   "cell_type": "code",
   "execution_count": 2,
   "id": "15f1758d-cb80-489b-80d2-3940bed9eca2",
   "metadata": {},
   "outputs": [],
   "source": [
    "class student_details(pwskills):\n",
    "    \n",
    "    def student_detials(self):\n",
    "        return \"this is method for taking student detials\"\n",
    "    \n",
    "    def studnet_assignmet(self):\n",
    "        return \"this is a method for taking student assignment details\"\n",
    "    "
   ]
  },
  {
   "cell_type": "code",
   "execution_count": 13,
   "id": "37edf464-1862-42bb-a08c-60f88a2ad1ce",
   "metadata": {},
   "outputs": [
    {
     "data": {
      "text/plain": [
       "'this is method for taking student detials'"
      ]
     },
     "execution_count": 13,
     "metadata": {},
     "output_type": "execute_result"
    }
   ],
   "source": [
    "sd = student_details()\n",
    "sd.student_detials()"
   ]
  },
  {
   "cell_type": "markdown",
   "id": "acde3612-4937-454e-afe7-ac2ba4ff4bdb",
   "metadata": {},
   "source": [
    "### Q2. Differentiate between Abstraction and Encapsulation. Explain with an example."
   ]
  },
  {
   "cell_type": "code",
   "execution_count": 16,
   "id": "1a7ccfaa-8d87-47d0-8d5f-49ab87e7fdf8",
   "metadata": {},
   "outputs": [],
   "source": [
    "#encapsulation\n",
    "class car :\n",
    "    \n",
    "    def __init__(self, year, make, model):\n",
    "        self.__year = year\n",
    "        self.__make = make\n",
    "        self.__model = model\n",
    "       "
   ]
  },
  {
   "cell_type": "code",
   "execution_count": 17,
   "id": "2b575fd2-b802-4282-9baa-dd4657e59aaa",
   "metadata": {},
   "outputs": [],
   "source": [
    "c = car(2020, \"tata\", \"suv\")"
   ]
  },
  {
   "cell_type": "code",
   "execution_count": 18,
   "id": "8207bbe5-6510-4170-b147-c64d74608190",
   "metadata": {},
   "outputs": [
    {
     "data": {
      "text/plain": [
       "'suv'"
      ]
     },
     "execution_count": 18,
     "metadata": {},
     "output_type": "execute_result"
    }
   ],
   "source": [
    "c._car__model"
   ]
  },
  {
   "cell_type": "code",
   "execution_count": 23,
   "id": "dd6bc0cb-ec62-4843-8ff6-0d63305cfbed",
   "metadata": {},
   "outputs": [],
   "source": [
    "#Abstraction\n",
    "import abc\n",
    "class vehicle:\n",
    "    @abc.abstractmethod\n",
    "    def car_detials(self):\n",
    "        pass\n",
    "    @abc.abstractmethod\n",
    "    \n",
    "    def car_name(self):\n",
    "        pass\n",
    "    @abc.abstractmethod\n",
    "    \n",
    "    def car_model(self):\n",
    "        pass\n",
    "    "
   ]
  },
  {
   "cell_type": "code",
   "execution_count": 24,
   "id": "2ecbba58-158c-492e-8c1f-d008b25a0251",
   "metadata": {},
   "outputs": [],
   "source": [
    "class car_detials(vehicle):\n",
    "    \n",
    "    def car_detials(self):\n",
    "        return \"this is method for taking car detials\"\n",
    "    \n",
    "    def car_model(self):\n",
    "        return \"this is a method for taking car model details\"\n",
    "    "
   ]
  },
  {
   "cell_type": "code",
   "execution_count": 25,
   "id": "5c3aa1ea-e1e1-4a19-b141-71f024276f97",
   "metadata": {},
   "outputs": [
    {
     "data": {
      "text/plain": [
       "'this is a method for taking car model details'"
      ]
     },
     "execution_count": 25,
     "metadata": {},
     "output_type": "execute_result"
    }
   ],
   "source": [
    "c = car_detials()\n",
    "c.car_model()"
   ]
  },
  {
   "cell_type": "code",
   "execution_count": null,
   "id": "659335b8-1ee1-41c2-8541-44f75889bf30",
   "metadata": {},
   "outputs": [],
   "source": []
  },
  {
   "cell_type": "markdown",
   "id": "363199ee-534a-4b75-8208-de95fbf3bba8",
   "metadata": {},
   "source": [
    "### Q3. What is abc module in python? Why is it used?"
   ]
  },
  {
   "cell_type": "code",
   "execution_count": 11,
   "id": "961ca460-7f3f-4bdc-a78d-8b4d491fe19e",
   "metadata": {},
   "outputs": [
    {
     "name": "stdout",
     "output_type": "stream",
     "text": [
      "this is abc module\n"
     ]
    }
   ],
   "source": [
    "#The 'abc' module in the Python library provides the infrastructure for defining custom abstract base classes.\n",
    "from abc import ABC\n",
    "\n",
    "class MyABC(ABC):\n",
    "     print(\"this is abc module\")"
   ]
  },
  {
   "cell_type": "code",
   "execution_count": null,
   "id": "02980354-4ee9-476b-93ea-f1ecea80b564",
   "metadata": {},
   "outputs": [],
   "source": []
  },
  {
   "cell_type": "markdown",
   "id": "0442675d-1476-4044-a1df-6be80efec4c5",
   "metadata": {},
   "source": [
    "####  Q5. Can we create an instance of an abstract class? Explain your answer."
   ]
  },
  {
   "cell_type": "code",
   "execution_count": 16,
   "id": "e3e296c2-f3cf-497d-aeae-cd68ba21e8f5",
   "metadata": {},
   "outputs": [],
   "source": [
    "from abc import ABC, abstractmethod\n",
    "class car (ABC):\n",
    "    def show(self):\n",
    "        print(\"Every car has 4 wheels\")\n",
    "    \n",
    "    @abstractmethod\n",
    "    def speed(self):\n",
    "        pass\n",
    "    \n",
    "class tata(car):\n",
    "    def speed(self):\n",
    "        print(\"speed is 100km/H\")\n",
    "\n",
    "class maruti(car):\n",
    "    def speed(self):\n",
    "        print(\"speed is 200km/H\")\n",
    "        \n"
   ]
  },
  {
   "cell_type": "code",
   "execution_count": 17,
   "id": "e1f905c1-7a36-4042-9c33-94f8474a6d19",
   "metadata": {},
   "outputs": [],
   "source": [
    "obj = tata()"
   ]
  },
  {
   "cell_type": "code",
   "execution_count": 19,
   "id": "40ba0d32-781d-4438-82b1-b0e312ae7b35",
   "metadata": {},
   "outputs": [
    {
     "name": "stdout",
     "output_type": "stream",
     "text": [
      "speed is 100km/H\n"
     ]
    }
   ],
   "source": [
    "obj.speed()"
   ]
  },
  {
   "cell_type": "code",
   "execution_count": 20,
   "id": "7c413029-3d5e-4979-8c68-6dba31cec05b",
   "metadata": {},
   "outputs": [],
   "source": [
    "obj = maruti()"
   ]
  },
  {
   "cell_type": "code",
   "execution_count": 21,
   "id": "83e06dd1-9bdf-44a9-87d4-83ad2b39b2f1",
   "metadata": {},
   "outputs": [
    {
     "name": "stdout",
     "output_type": "stream",
     "text": [
      "speed is 200km/H\n"
     ]
    }
   ],
   "source": [
    "obj.speed()"
   ]
  },
  {
   "cell_type": "code",
   "execution_count": 22,
   "id": "e7b357ed-8367-4a8b-9611-81d8edea9ed2",
   "metadata": {},
   "outputs": [
    {
     "name": "stdout",
     "output_type": "stream",
     "text": [
      "Every car has 4 wheels\n"
     ]
    }
   ],
   "source": [
    "obj.show()"
   ]
  },
  {
   "cell_type": "code",
   "execution_count": null,
   "id": "e4271728-0e44-4d17-8987-02883a0e7e5d",
   "metadata": {},
   "outputs": [],
   "source": []
  }
 ],
 "metadata": {
  "kernelspec": {
   "display_name": "Python 3 (ipykernel)",
   "language": "python",
   "name": "python3"
  },
  "language_info": {
   "codemirror_mode": {
    "name": "ipython",
    "version": 3
   },
   "file_extension": ".py",
   "mimetype": "text/x-python",
   "name": "python",
   "nbconvert_exporter": "python",
   "pygments_lexer": "ipython3",
   "version": "3.10.8"
  }
 },
 "nbformat": 4,
 "nbformat_minor": 5
}
